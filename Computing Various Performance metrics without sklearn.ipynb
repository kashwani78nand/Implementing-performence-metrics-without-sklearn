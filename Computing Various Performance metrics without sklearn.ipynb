{
 "cells": [
  {
   "cell_type": "markdown",
   "metadata": {
    "colab_type": "text",
    "id": "s0Ej_bXyQvnV"
   },
   "source": [
    "# Compute performance metrics for the given Y and Y_score without sklearn"
   ]
  },
  {
   "cell_type": "code",
   "execution_count": 2,
   "metadata": {
    "colab": {},
    "colab_type": "code",
    "id": "4CHb6NE7Qvnc"
   },
   "outputs": [],
   "source": [
    "import numpy as np\n",
    "import pandas as pd\n",
    "# other than these two you should not import any other packages"
   ]
  },
  {
   "cell_type": "markdown",
   "metadata": {
    "colab_type": "text",
    "id": "KbsWXuDaQvnq"
   },
   "source": [
    "<pre>\n",
    "<font color='red'><b>A.</b></font> Compute performance metrics for the given data <strong>5_a.csv</strong>\n",
    "   <b>Note 1:</b> in this data you can see number of positive points >> number of negatives points\n",
    "   <b>Note 2:</b> use pandas or numpy to read the data from <b>5_a.csv</b>\n",
    "   <b>Note 3:</b> you need to derive the class labels from given score</pre> $y^{pred}= \\text{[0 if y_score < 0.5 else 1]}$\n",
    "\n",
    "<pre>\n",
    "<ol>\n",
    "<li> Compute Confusion Matrix </li>\n",
    "<li> Compute F1 Score </li>\n",
    "<li> Compute AUC Score, you need to compute different thresholds and for each threshold compute tpr,fpr and then use               numpy.trapz(tpr_array, fpr_array) <a href='https://stackoverflow.com/q/53603376/4084039'>https://stackoverflow.com/q/53603376/4084039</a>, <a href='https://stackoverflow.com/a/39678975/4084039'>https://stackoverflow.com/a/39678975/4084039</a> Note: it should be numpy.trapz(tpr_array, fpr_array) not numpy.trapz(fpr_array, tpr_array)</li>\n",
    "<li> Compute Accuracy Score </li>\n",
    "</ol>\n",
    "</pre>"
   ]
  },
  {
   "cell_type": "markdown",
   "metadata": {},
   "source": [
    "# 1.  Compute Confusion Matrix "
   ]
  },
  {
   "cell_type": "code",
   "execution_count": 44,
   "metadata": {},
   "outputs": [
    {
     "name": "stdout",
     "output_type": "stream",
     "text": [
      "1.0    10000\n",
      "0.0      100\n",
      "Name: y, dtype: int64\n"
     ]
    },
    {
     "data": {
      "text/html": [
       "<div>\n",
       "<style scoped>\n",
       "    .dataframe tbody tr th:only-of-type {\n",
       "        vertical-align: middle;\n",
       "    }\n",
       "\n",
       "    .dataframe tbody tr th {\n",
       "        vertical-align: top;\n",
       "    }\n",
       "\n",
       "    .dataframe thead th {\n",
       "        text-align: right;\n",
       "    }\n",
       "</style>\n",
       "<table border=\"1\" class=\"dataframe\">\n",
       "  <thead>\n",
       "    <tr style=\"text-align: right;\">\n",
       "      <th></th>\n",
       "      <th>y</th>\n",
       "      <th>proba</th>\n",
       "    </tr>\n",
       "  </thead>\n",
       "  <tbody>\n",
       "    <tr>\n",
       "      <th>0</th>\n",
       "      <td>1.0</td>\n",
       "      <td>0.637387</td>\n",
       "    </tr>\n",
       "    <tr>\n",
       "      <th>1</th>\n",
       "      <td>1.0</td>\n",
       "      <td>0.635165</td>\n",
       "    </tr>\n",
       "    <tr>\n",
       "      <th>2</th>\n",
       "      <td>1.0</td>\n",
       "      <td>0.766586</td>\n",
       "    </tr>\n",
       "    <tr>\n",
       "      <th>3</th>\n",
       "      <td>1.0</td>\n",
       "      <td>0.724564</td>\n",
       "    </tr>\n",
       "    <tr>\n",
       "      <th>4</th>\n",
       "      <td>1.0</td>\n",
       "      <td>0.889199</td>\n",
       "    </tr>\n",
       "  </tbody>\n",
       "</table>\n",
       "</div>"
      ],
      "text/plain": [
       "     y     proba\n",
       "0  1.0  0.637387\n",
       "1  1.0  0.635165\n",
       "2  1.0  0.766586\n",
       "3  1.0  0.724564\n",
       "4  1.0  0.889199"
      ]
     },
     "execution_count": 44,
     "metadata": {},
     "output_type": "execute_result"
    }
   ],
   "source": [
    "data = pd.read_csv('5_a.csv')\n",
    "print(data.y.value_counts())\n",
    "data.head()"
   ]
  },
  {
   "cell_type": "code",
   "execution_count": 45,
   "metadata": {},
   "outputs": [
    {
     "name": "stdout",
     "output_type": "stream",
     "text": [
      "1    10100\n",
      "Name: y_pred, dtype: int64\n"
     ]
    },
    {
     "data": {
      "text/html": [
       "<div>\n",
       "<style scoped>\n",
       "    .dataframe tbody tr th:only-of-type {\n",
       "        vertical-align: middle;\n",
       "    }\n",
       "\n",
       "    .dataframe tbody tr th {\n",
       "        vertical-align: top;\n",
       "    }\n",
       "\n",
       "    .dataframe thead th {\n",
       "        text-align: right;\n",
       "    }\n",
       "</style>\n",
       "<table border=\"1\" class=\"dataframe\">\n",
       "  <thead>\n",
       "    <tr style=\"text-align: right;\">\n",
       "      <th></th>\n",
       "      <th>y</th>\n",
       "      <th>y_pred</th>\n",
       "    </tr>\n",
       "  </thead>\n",
       "  <tbody>\n",
       "    <tr>\n",
       "      <th>0</th>\n",
       "      <td>1.0</td>\n",
       "      <td>1</td>\n",
       "    </tr>\n",
       "    <tr>\n",
       "      <th>1</th>\n",
       "      <td>1.0</td>\n",
       "      <td>1</td>\n",
       "    </tr>\n",
       "    <tr>\n",
       "      <th>2</th>\n",
       "      <td>1.0</td>\n",
       "      <td>1</td>\n",
       "    </tr>\n",
       "    <tr>\n",
       "      <th>3</th>\n",
       "      <td>1.0</td>\n",
       "      <td>1</td>\n",
       "    </tr>\n",
       "    <tr>\n",
       "      <th>4</th>\n",
       "      <td>1.0</td>\n",
       "      <td>1</td>\n",
       "    </tr>\n",
       "  </tbody>\n",
       "</table>\n",
       "</div>"
      ],
      "text/plain": [
       "     y  y_pred\n",
       "0  1.0       1\n",
       "1  1.0       1\n",
       "2  1.0       1\n",
       "3  1.0       1\n",
       "4  1.0       1"
      ]
     },
     "execution_count": 45,
     "metadata": {},
     "output_type": "execute_result"
    }
   ],
   "source": [
    "def predictor(x):\n",
    "    if x < 0.5:\n",
    "        return 0\n",
    "    else:\n",
    "        return 1\n",
    "    \n",
    "#Convering the 'proba' column into into a class label with only '0' and '1' as values    \n",
    "data.proba = data.proba.map(predictor) \n",
    "\n",
    "#Giving a new name 'y_pred' to 'proba' \n",
    "data.columns = ['y', 'y_pred']\n",
    "\n",
    "print(data.y_pred.value_counts())\n",
    "data.head()"
   ]
  },
  {
   "cell_type": "code",
   "execution_count": 46,
   "metadata": {},
   "outputs": [],
   "source": [
    "def Confusion_Matrix(data_frame, label1, label2):\n",
    "    counter = 0\n",
    "    for i in range(0, len(data_frame)):\n",
    "        if data_frame.y[i] == label1 and data_frame.y_pred[i] == label2:\n",
    "            counter += 1\n",
    "    return counter   "
   ]
  },
  {
   "cell_type": "code",
   "execution_count": 47,
   "metadata": {},
   "outputs": [
    {
     "name": "stdout",
     "output_type": "stream",
     "text": [
      "True Positive  10000\n",
      "True Negative  0\n",
      "False Positive  100\n",
      "False Negative  0\n"
     ]
    }
   ],
   "source": [
    "#Computing Confusion Matrix Parameter (TP,TN,FN,FP)\n",
    "TP = Confusion_Matrix(data, 1, 1)\n",
    "TN = Confusion_Matrix(data, 0, 0)\n",
    "FN = Confusion_Matrix(data, 1, 0)\n",
    "FP = Confusion_Matrix(data, 0, 1)\n",
    "\n",
    "print(\"True Positive \",TP)\n",
    "print(\"True Negative \",TN)\n",
    "print(\"False Positive \",FP)\n",
    "print(\"False Negative \",FN)\n"
   ]
  },
  {
   "cell_type": "code",
   "execution_count": 48,
   "metadata": {},
   "outputs": [
    {
     "data": {
      "text/plain": [
       "[[0, 0], [100, 10000]]"
      ]
     },
     "execution_count": 48,
     "metadata": {},
     "output_type": "execute_result"
    }
   ],
   "source": [
    "#Creating Confusion-Matrix\n",
    "Confusion_Matrix = [[TN,FN], [FP,TP]]\n",
    "Confusion_Matrix"
   ]
  },
  {
   "cell_type": "markdown",
   "metadata": {},
   "source": [
    "# 2. Compute F1 Score "
   ]
  },
  {
   "cell_type": "code",
   "execution_count": 49,
   "metadata": {},
   "outputs": [
    {
     "name": "stdout",
     "output_type": "stream",
     "text": [
      "Precision  0.9900990099009901\n",
      "Recall  1.0\n",
      "F1-Score  0.9950248756218906\n"
     ]
    }
   ],
   "source": [
    "#Calculating Precision\n",
    "Precision = TP/(TP+FP)\n",
    "\n",
    "#Calculating Recall\n",
    "Recall = TP/(TP+FN)\n",
    "\n",
    "print(\"Precision \",Precision)\n",
    "print(\"Recall \", Recall)\n",
    "\n",
    "#Calculating F1-Score\n",
    "F1_Score = 2*(Precision*Recall)/(Precision+Recall)\n",
    "\n",
    "print(\"F1-Score \",F1_Score)"
   ]
  },
  {
   "cell_type": "markdown",
   "metadata": {},
   "source": [
    "#  3. Compute AUC Score"
   ]
  },
  {
   "cell_type": "code",
   "execution_count": 14,
   "metadata": {
    "colab": {},
    "colab_type": "code",
    "id": "WaFLW7oBQvnt"
   },
   "outputs": [
    {
     "data": {
      "text/html": [
       "<div>\n",
       "<style scoped>\n",
       "    .dataframe tbody tr th:only-of-type {\n",
       "        vertical-align: middle;\n",
       "    }\n",
       "\n",
       "    .dataframe tbody tr th {\n",
       "        vertical-align: top;\n",
       "    }\n",
       "\n",
       "    .dataframe thead th {\n",
       "        text-align: right;\n",
       "    }\n",
       "</style>\n",
       "<table border=\"1\" class=\"dataframe\">\n",
       "  <thead>\n",
       "    <tr style=\"text-align: right;\">\n",
       "      <th></th>\n",
       "      <th>y</th>\n",
       "      <th>proba</th>\n",
       "    </tr>\n",
       "  </thead>\n",
       "  <tbody>\n",
       "    <tr>\n",
       "      <th>0</th>\n",
       "      <td>1.0</td>\n",
       "      <td>0.637387</td>\n",
       "    </tr>\n",
       "    <tr>\n",
       "      <th>1</th>\n",
       "      <td>1.0</td>\n",
       "      <td>0.635165</td>\n",
       "    </tr>\n",
       "    <tr>\n",
       "      <th>2</th>\n",
       "      <td>1.0</td>\n",
       "      <td>0.766586</td>\n",
       "    </tr>\n",
       "    <tr>\n",
       "      <th>3</th>\n",
       "      <td>1.0</td>\n",
       "      <td>0.724564</td>\n",
       "    </tr>\n",
       "    <tr>\n",
       "      <th>4</th>\n",
       "      <td>1.0</td>\n",
       "      <td>0.889199</td>\n",
       "    </tr>\n",
       "  </tbody>\n",
       "</table>\n",
       "</div>"
      ],
      "text/plain": [
       "     y     proba\n",
       "0  1.0  0.637387\n",
       "1  1.0  0.635165\n",
       "2  1.0  0.766586\n",
       "3  1.0  0.724564\n",
       "4  1.0  0.889199"
      ]
     },
     "execution_count": 14,
     "metadata": {},
     "output_type": "execute_result"
    }
   ],
   "source": [
    "data = pd.read_csv('5_a.csv')\n",
    "data.head()"
   ]
  },
  {
   "cell_type": "code",
   "execution_count": 15,
   "metadata": {},
   "outputs": [
    {
     "data": {
      "text/html": [
       "<div>\n",
       "<style scoped>\n",
       "    .dataframe tbody tr th:only-of-type {\n",
       "        vertical-align: middle;\n",
       "    }\n",
       "\n",
       "    .dataframe tbody tr th {\n",
       "        vertical-align: top;\n",
       "    }\n",
       "\n",
       "    .dataframe thead th {\n",
       "        text-align: right;\n",
       "    }\n",
       "</style>\n",
       "<table border=\"1\" class=\"dataframe\">\n",
       "  <thead>\n",
       "    <tr style=\"text-align: right;\">\n",
       "      <th></th>\n",
       "      <th>y</th>\n",
       "      <th>proba</th>\n",
       "      <th>Threshold 0.8999653487823838</th>\n",
       "      <th>Threshold 0.899828305041011</th>\n",
       "      <th>Threshold 0.89982484614942</th>\n",
       "      <th>Threshold 0.8998118120764471</th>\n",
       "      <th>Threshold 0.8997678816682531</th>\n",
       "      <th>Threshold 0.8997510420266246</th>\n",
       "      <th>Threshold 0.8994674890303449</th>\n",
       "      <th>Threshold 0.8994444889794935</th>\n",
       "      <th>...</th>\n",
       "      <th>Threshold 0.5003078086272976</th>\n",
       "      <th>Threshold 0.5003012990201631</th>\n",
       "      <th>Threshold 0.5002436770798491</th>\n",
       "      <th>Threshold 0.5001997894475683</th>\n",
       "      <th>Threshold 0.5001975312600645</th>\n",
       "      <th>Threshold 0.5000812600762915</th>\n",
       "      <th>Threshold 0.5000581510668138</th>\n",
       "      <th>Threshold 0.5000580078593906</th>\n",
       "      <th>Threshold 0.5000473407183691</th>\n",
       "      <th>Threshold 0.5000185949718864</th>\n",
       "    </tr>\n",
       "  </thead>\n",
       "  <tbody>\n",
       "    <tr>\n",
       "      <th>0</th>\n",
       "      <td>1.0</td>\n",
       "      <td>0.637387</td>\n",
       "      <td>0</td>\n",
       "      <td>0</td>\n",
       "      <td>0</td>\n",
       "      <td>0</td>\n",
       "      <td>0</td>\n",
       "      <td>0</td>\n",
       "      <td>0</td>\n",
       "      <td>0</td>\n",
       "      <td>...</td>\n",
       "      <td>1</td>\n",
       "      <td>1</td>\n",
       "      <td>1</td>\n",
       "      <td>1</td>\n",
       "      <td>1</td>\n",
       "      <td>1</td>\n",
       "      <td>1</td>\n",
       "      <td>1</td>\n",
       "      <td>1</td>\n",
       "      <td>1</td>\n",
       "    </tr>\n",
       "    <tr>\n",
       "      <th>1</th>\n",
       "      <td>1.0</td>\n",
       "      <td>0.635165</td>\n",
       "      <td>0</td>\n",
       "      <td>0</td>\n",
       "      <td>0</td>\n",
       "      <td>0</td>\n",
       "      <td>0</td>\n",
       "      <td>0</td>\n",
       "      <td>0</td>\n",
       "      <td>0</td>\n",
       "      <td>...</td>\n",
       "      <td>1</td>\n",
       "      <td>1</td>\n",
       "      <td>1</td>\n",
       "      <td>1</td>\n",
       "      <td>1</td>\n",
       "      <td>1</td>\n",
       "      <td>1</td>\n",
       "      <td>1</td>\n",
       "      <td>1</td>\n",
       "      <td>1</td>\n",
       "    </tr>\n",
       "    <tr>\n",
       "      <th>2</th>\n",
       "      <td>1.0</td>\n",
       "      <td>0.766586</td>\n",
       "      <td>0</td>\n",
       "      <td>0</td>\n",
       "      <td>0</td>\n",
       "      <td>0</td>\n",
       "      <td>0</td>\n",
       "      <td>0</td>\n",
       "      <td>0</td>\n",
       "      <td>0</td>\n",
       "      <td>...</td>\n",
       "      <td>1</td>\n",
       "      <td>1</td>\n",
       "      <td>1</td>\n",
       "      <td>1</td>\n",
       "      <td>1</td>\n",
       "      <td>1</td>\n",
       "      <td>1</td>\n",
       "      <td>1</td>\n",
       "      <td>1</td>\n",
       "      <td>1</td>\n",
       "    </tr>\n",
       "    <tr>\n",
       "      <th>3</th>\n",
       "      <td>1.0</td>\n",
       "      <td>0.724564</td>\n",
       "      <td>0</td>\n",
       "      <td>0</td>\n",
       "      <td>0</td>\n",
       "      <td>0</td>\n",
       "      <td>0</td>\n",
       "      <td>0</td>\n",
       "      <td>0</td>\n",
       "      <td>0</td>\n",
       "      <td>...</td>\n",
       "      <td>1</td>\n",
       "      <td>1</td>\n",
       "      <td>1</td>\n",
       "      <td>1</td>\n",
       "      <td>1</td>\n",
       "      <td>1</td>\n",
       "      <td>1</td>\n",
       "      <td>1</td>\n",
       "      <td>1</td>\n",
       "      <td>1</td>\n",
       "    </tr>\n",
       "    <tr>\n",
       "      <th>4</th>\n",
       "      <td>1.0</td>\n",
       "      <td>0.889199</td>\n",
       "      <td>0</td>\n",
       "      <td>0</td>\n",
       "      <td>0</td>\n",
       "      <td>0</td>\n",
       "      <td>0</td>\n",
       "      <td>0</td>\n",
       "      <td>0</td>\n",
       "      <td>0</td>\n",
       "      <td>...</td>\n",
       "      <td>1</td>\n",
       "      <td>1</td>\n",
       "      <td>1</td>\n",
       "      <td>1</td>\n",
       "      <td>1</td>\n",
       "      <td>1</td>\n",
       "      <td>1</td>\n",
       "      <td>1</td>\n",
       "      <td>1</td>\n",
       "      <td>1</td>\n",
       "    </tr>\n",
       "  </tbody>\n",
       "</table>\n",
       "<p>5 rows × 10102 columns</p>\n",
       "</div>"
      ],
      "text/plain": [
       "     y     proba  Threshold 0.8999653487823838  Threshold 0.899828305041011  \\\n",
       "0  1.0  0.637387                             0                            0   \n",
       "1  1.0  0.635165                             0                            0   \n",
       "2  1.0  0.766586                             0                            0   \n",
       "3  1.0  0.724564                             0                            0   \n",
       "4  1.0  0.889199                             0                            0   \n",
       "\n",
       "   Threshold 0.89982484614942  Threshold 0.8998118120764471  \\\n",
       "0                           0                             0   \n",
       "1                           0                             0   \n",
       "2                           0                             0   \n",
       "3                           0                             0   \n",
       "4                           0                             0   \n",
       "\n",
       "   Threshold 0.8997678816682531  Threshold 0.8997510420266246  \\\n",
       "0                             0                             0   \n",
       "1                             0                             0   \n",
       "2                             0                             0   \n",
       "3                             0                             0   \n",
       "4                             0                             0   \n",
       "\n",
       "   Threshold 0.8994674890303449  Threshold 0.8994444889794935  ...  \\\n",
       "0                             0                             0  ...   \n",
       "1                             0                             0  ...   \n",
       "2                             0                             0  ...   \n",
       "3                             0                             0  ...   \n",
       "4                             0                             0  ...   \n",
       "\n",
       "   Threshold 0.5003078086272976  Threshold 0.5003012990201631  \\\n",
       "0                             1                             1   \n",
       "1                             1                             1   \n",
       "2                             1                             1   \n",
       "3                             1                             1   \n",
       "4                             1                             1   \n",
       "\n",
       "   Threshold 0.5002436770798491  Threshold 0.5001997894475683  \\\n",
       "0                             1                             1   \n",
       "1                             1                             1   \n",
       "2                             1                             1   \n",
       "3                             1                             1   \n",
       "4                             1                             1   \n",
       "\n",
       "   Threshold 0.5001975312600645  Threshold 0.5000812600762915  \\\n",
       "0                             1                             1   \n",
       "1                             1                             1   \n",
       "2                             1                             1   \n",
       "3                             1                             1   \n",
       "4                             1                             1   \n",
       "\n",
       "   Threshold 0.5000581510668138  Threshold 0.5000580078593906  \\\n",
       "0                             1                             1   \n",
       "1                             1                             1   \n",
       "2                             1                             1   \n",
       "3                             1                             1   \n",
       "4                             1                             1   \n",
       "\n",
       "   Threshold 0.5000473407183691  Threshold 0.5000185949718864  \n",
       "0                             1                             1  \n",
       "1                             1                             1  \n",
       "2                             1                             1  \n",
       "3                             1                             1  \n",
       "4                             1                             1  \n",
       "\n",
       "[5 rows x 10102 columns]"
      ]
     },
     "execution_count": 15,
     "metadata": {},
     "output_type": "execute_result"
    }
   ],
   "source": [
    "#computing different thresholds and merging the labels based on that threshhold to the data\n",
    "Threshold = set()\n",
    "Threshold = sorted(data.proba,reverse=True)\n",
    "\n",
    "for i in Threshold:\n",
    "    lst = []\n",
    "    for val in data.proba:\n",
    "        if val < i:\n",
    "            lst.append(0)\n",
    "        else:\n",
    "            lst.append(1)        \n",
    "    data['Threshold '+str(i)] = lst\n",
    "    \n",
    "#Printing first 5 values of the data            \n",
    "data.head()            "
   ]
  },
  {
   "cell_type": "code",
   "execution_count": 16,
   "metadata": {},
   "outputs": [
    {
     "data": {
      "text/plain": [
       "0    10097\n",
       "1        3\n",
       "Name: Threshold 0.89982484614942, dtype: int64"
      ]
     },
     "execution_count": 16,
     "metadata": {},
     "output_type": "execute_result"
    }
   ],
   "source": [
    "#Printing a column(on a given threshold) value counts\n",
    "data['Threshold '+str(0.89982484614942)].value_counts()"
   ]
  },
  {
   "cell_type": "code",
   "execution_count": 22,
   "metadata": {},
   "outputs": [],
   "source": [
    "def Confusion_Matrix(data_frame, label1,label2):\n",
    "    lst = []\n",
    "    for thresh in Threshold:\n",
    "        counter = 0\n",
    "        for i in range(0,len(data_frame)):\n",
    "            if data_frame.y[i] == label1 and data_frame['Threshold '+str(thresh)][i] == label2:\n",
    "                counter +=1\n",
    "        lst.append(counter)\n",
    "    return lst   "
   ]
  },
  {
   "cell_type": "code",
   "execution_count": 23,
   "metadata": {},
   "outputs": [
    {
     "name": "stdout",
     "output_type": "stream",
     "text": [
      "True Positive's  [1, 2, 3, 4, 5, 6, 7, 8, 9, 10]\n",
      "True Negative's  [100, 100, 100, 100, 100, 100, 100, 100, 100, 100]\n",
      "False Positive's  [0, 0, 0, 0, 0, 0, 0, 0, 0, 0]\n",
      "False Negative's  [9999, 9998, 9997, 9996, 9995, 9994, 9993, 9992, 9991, 9990]\n"
     ]
    }
   ],
   "source": [
    "#Computing Confusion Matrix Parameter (TP,TN,FN,FP) for each threshold column\n",
    "TP = Confusion_Matrix(data, 1, 1)\n",
    "TN = Confusion_Matrix(data, 0, 0)\n",
    "FN = Confusion_Matrix(data, 1, 0)\n",
    "FP = Confusion_Matrix(data, 0, 1)\n",
    "\n",
    "\n",
    "print(\"True Positive's \",TP[:10])\n",
    "print(\"True Negative's \",TN[:10])\n",
    "print(\"False Positive's \",FP[:10])\n",
    "print(\"False Negative's \",FN[:10])\n"
   ]
  },
  {
   "cell_type": "code",
   "execution_count": 31,
   "metadata": {},
   "outputs": [],
   "source": [
    "def TPR_FPR_Calculator(arg1,arg2):\n",
    "    lst = []\n",
    "    for i in range(0, len(arg1)):\n",
    "        lst.append(arg1[i]/(arg1[i]+arg2[i]))\n",
    "    return lst         "
   ]
  },
  {
   "cell_type": "code",
   "execution_count": 35,
   "metadata": {},
   "outputs": [
    {
     "name": "stdout",
     "output_type": "stream",
     "text": [
      "True Positive Rate's :-  [0.0001, 0.0002, 0.0003, 0.0004, 0.0005, 0.0006, 0.0007, 0.0008, 0.0009, 0.001]\n",
      "False Positive Rate's :-  [0.0, 0.0, 0.0, 0.0, 0.0, 0.0, 0.0, 0.0, 0.0, 0.0]\n"
     ]
    }
   ],
   "source": [
    "#Computing TPR & FPR values for each threshold column\n",
    "TPR = TPR_FPR_Calculator(TP,FN)\n",
    "FPR = TPR_FPR_Calculator(FP,TN)\n",
    "\n",
    "print(\"True Positive Rate's :- \",TPR[:10])\n",
    "print(\"False Positive Rate's :- \",FPR[:10])"
   ]
  },
  {
   "cell_type": "code",
   "execution_count": 38,
   "metadata": {},
   "outputs": [
    {
     "data": {
      "image/png": "[encoded data removed]",
      "text/plain": [
       "<Figure size 432x288 with 1 Axes>"
      ]
     },
     "metadata": {
      "needs_background": "light"
     },
     "output_type": "display_data"
    }
   ],
   "source": [
    "#plotting the TPR and FPR\n",
    "import matplotlib.pyplot as plt\n",
    "plt.plot(FPR,TPR)\n",
    "plt.xlabel(\"FPR(False Positive Rate)\")\n",
    "plt.ylabel(\"TPR(True Positive Rate)\")\n",
    "plt.show()\n"
   ]
  },
  {
   "cell_type": "code",
   "execution_count": 43,
   "metadata": {},
   "outputs": [
    {
     "name": "stdout",
     "output_type": "stream",
     "text": [
      "The AUC score is :- 0.48829900000000004\n"
     ]
    }
   ],
   "source": [
    "#Computing AUC Score\n",
    "print(\"The AUC score is :-\",np.trapz(TPR, FPR))"
   ]
  },
  {
   "cell_type": "markdown",
   "metadata": {},
   "source": [
    "# 4.Compute Accuracy Score "
   ]
  },
  {
   "cell_type": "code",
   "execution_count": 50,
   "metadata": {},
   "outputs": [
    {
     "name": "stdout",
     "output_type": "stream",
     "text": [
      "Accuracy Score :-  0.9900990099009901\n"
     ]
    }
   ],
   "source": [
    "#Calculating Accuracy\n",
    "Accuracy = (TP+TN)/(TP+TN+FP+FN)\n",
    "print(\"Accuracy Score :- \",Accuracy)"
   ]
  },
  {
   "cell_type": "markdown",
   "metadata": {
    "colab_type": "text",
    "id": "V5KZem1BQvn2"
   },
   "source": [
    "# <pre>\n",
    "<font color='red'><b>B.</b></font> Compute performance metrics for the given data <strong>5_b.csv</strong>\n",
    "   <b>Note 1:</b> in this data you can see number of positive points << number of negatives points\n",
    "   <b>Note 2:</b> use pandas or numpy to read the data from <b>5_b.csv</b>\n",
    "   <b>Note 3:</b> you need to derive the class labels from given score</pre> $y^{pred}= \\text{[0 if y_score < 0.5 else 1]}$\n",
    "\n",
    "<pre>\n",
    "<ol>\n",
    "<li> Compute Confusion Matrix </li>\n",
    "<li> Compute F1 Score </li>\n",
    "<li> Compute AUC Score, you need to compute different thresholds and for each threshold compute tpr,fpr and then use               numpy.trapz(tpr_array, fpr_array) <a href='https://stackoverflow.com/q/53603376/4084039'>https://stackoverflow.com/q/53603376/4084039</a>, <a href='https://stackoverflow.com/a/39678975/4084039'>https://stackoverflow.com/a/39678975/4084039</a></li>\n",
    "<li> Compute Accuracy Score </li>\n",
    "</ol>\n",
    "</pre>"
   ]
  },
  {
   "cell_type": "markdown",
   "metadata": {},
   "source": [
    "# 1.Compute Confusion Matrix"
   ]
  },
  {
   "cell_type": "code",
   "execution_count": 51,
   "metadata": {
    "colab": {},
    "colab_type": "code",
    "id": "U2sKlq0YQvn5"
   },
   "outputs": [
    {
     "name": "stdout",
     "output_type": "stream",
     "text": [
      "0.0    10000\n",
      "1.0      100\n",
      "Name: y, dtype: int64\n"
     ]
    },
    {
     "data": {
      "text/html": [
       "<div>\n",
       "<style scoped>\n",
       "    .dataframe tbody tr th:only-of-type {\n",
       "        vertical-align: middle;\n",
       "    }\n",
       "\n",
       "    .dataframe tbody tr th {\n",
       "        vertical-align: top;\n",
       "    }\n",
       "\n",
       "    .dataframe thead th {\n",
       "        text-align: right;\n",
       "    }\n",
       "</style>\n",
       "<table border=\"1\" class=\"dataframe\">\n",
       "  <thead>\n",
       "    <tr style=\"text-align: right;\">\n",
       "      <th></th>\n",
       "      <th>y</th>\n",
       "      <th>proba</th>\n",
       "    </tr>\n",
       "  </thead>\n",
       "  <tbody>\n",
       "    <tr>\n",
       "      <th>0</th>\n",
       "      <td>0.0</td>\n",
       "      <td>0.281035</td>\n",
       "    </tr>\n",
       "    <tr>\n",
       "      <th>1</th>\n",
       "      <td>0.0</td>\n",
       "      <td>0.465152</td>\n",
       "    </tr>\n",
       "    <tr>\n",
       "      <th>2</th>\n",
       "      <td>0.0</td>\n",
       "      <td>0.352793</td>\n",
       "    </tr>\n",
       "    <tr>\n",
       "      <th>3</th>\n",
       "      <td>0.0</td>\n",
       "      <td>0.157818</td>\n",
       "    </tr>\n",
       "    <tr>\n",
       "      <th>4</th>\n",
       "      <td>0.0</td>\n",
       "      <td>0.276648</td>\n",
       "    </tr>\n",
       "  </tbody>\n",
       "</table>\n",
       "</div>"
      ],
      "text/plain": [
       "     y     proba\n",
       "0  0.0  0.281035\n",
       "1  0.0  0.465152\n",
       "2  0.0  0.352793\n",
       "3  0.0  0.157818\n",
       "4  0.0  0.276648"
      ]
     },
     "execution_count": 51,
     "metadata": {},
     "output_type": "execute_result"
    }
   ],
   "source": [
    "data = pd.read_csv('5_b.csv')\n",
    "print(data.y.value_counts())\n",
    "data.head()"
   ]
  },
  {
   "cell_type": "code",
   "execution_count": 52,
   "metadata": {},
   "outputs": [
    {
     "name": "stdout",
     "output_type": "stream",
     "text": [
      "0    9806\n",
      "1     294\n",
      "Name: y_pred, dtype: int64\n"
     ]
    },
    {
     "data": {
      "text/html": [
       "<div>\n",
       "<style scoped>\n",
       "    .dataframe tbody tr th:only-of-type {\n",
       "        vertical-align: middle;\n",
       "    }\n",
       "\n",
       "    .dataframe tbody tr th {\n",
       "        vertical-align: top;\n",
       "    }\n",
       "\n",
       "    .dataframe thead th {\n",
       "        text-align: right;\n",
       "    }\n",
       "</style>\n",
       "<table border=\"1\" class=\"dataframe\">\n",
       "  <thead>\n",
       "    <tr style=\"text-align: right;\">\n",
       "      <th></th>\n",
       "      <th>y</th>\n",
       "      <th>y_pred</th>\n",
       "    </tr>\n",
       "  </thead>\n",
       "  <tbody>\n",
       "    <tr>\n",
       "      <th>0</th>\n",
       "      <td>0.0</td>\n",
       "      <td>0</td>\n",
       "    </tr>\n",
       "    <tr>\n",
       "      <th>1</th>\n",
       "      <td>0.0</td>\n",
       "      <td>0</td>\n",
       "    </tr>\n",
       "    <tr>\n",
       "      <th>2</th>\n",
       "      <td>0.0</td>\n",
       "      <td>0</td>\n",
       "    </tr>\n",
       "    <tr>\n",
       "      <th>3</th>\n",
       "      <td>0.0</td>\n",
       "      <td>0</td>\n",
       "    </tr>\n",
       "    <tr>\n",
       "      <th>4</th>\n",
       "      <td>0.0</td>\n",
       "      <td>0</td>\n",
       "    </tr>\n",
       "  </tbody>\n",
       "</table>\n",
       "</div>"
      ],
      "text/plain": [
       "     y  y_pred\n",
       "0  0.0       0\n",
       "1  0.0       0\n",
       "2  0.0       0\n",
       "3  0.0       0\n",
       "4  0.0       0"
      ]
     },
     "execution_count": 52,
     "metadata": {},
     "output_type": "execute_result"
    }
   ],
   "source": [
    "def predictor(x):\n",
    "    if x < 0.5:\n",
    "        return 0\n",
    "    else:\n",
    "        return 1\n",
    "    \n",
    "#Convering the 'proba' column into into a class label with only '0' and '1' as values    \n",
    "data.proba = data.proba.map(predictor) \n",
    "\n",
    "#Giving a new name 'y_pred' to 'proba' \n",
    "data.columns = ['y', 'y_pred']\n",
    "\n",
    "print(data.y_pred.value_counts())\n",
    "data.head()"
   ]
  },
  {
   "cell_type": "code",
   "execution_count": 53,
   "metadata": {},
   "outputs": [],
   "source": [
    "def Confusion_Matrix(data_frame, label1, label2):\n",
    "    counter = 0\n",
    "    for i in range(0, len(data_frame)):\n",
    "        if data_frame.y[i] == label1 and data_frame.y_pred[i] == label2:\n",
    "            counter += 1\n",
    "    return counter   "
   ]
  },
  {
   "cell_type": "code",
   "execution_count": 57,
   "metadata": {},
   "outputs": [
    {
     "name": "stdout",
     "output_type": "stream",
     "text": [
      "True Positive  55\n",
      "True Negative  9761\n",
      "False Positive  239\n",
      "False Negative  45\n"
     ]
    }
   ],
   "source": [
    "#Computing Confusion Matrix Parameter (TP,TN,FN,FP) for each threshold column\n",
    "TP = Confusion_Matrix(data, 1, 1)\n",
    "TN = Confusion_Matrix(data, 0, 0)\n",
    "FN = Confusion_Matrix(data, 1, 0)\n",
    "FP = Confusion_Matrix(data, 0, 1)\n",
    "\n",
    "\n",
    "print(\"True Positive \",TP)\n",
    "print(\"True Negative \",TN)\n",
    "print(\"False Positive \",FP)\n",
    "print(\"False Negative \",FN)\n"
   ]
  },
  {
   "cell_type": "code",
   "execution_count": 58,
   "metadata": {},
   "outputs": [
    {
     "data": {
      "text/plain": [
       "[[9761, 45], [239, 55]]"
      ]
     },
     "execution_count": 58,
     "metadata": {},
     "output_type": "execute_result"
    }
   ],
   "source": [
    "#Creating Confusion-Matrix\n",
    "Confusion_Matrix = [[TN,FN], [FP,TP]]\n",
    "Confusion_Matrix"
   ]
  },
  {
   "cell_type": "markdown",
   "metadata": {},
   "source": [
    "# 2.Compute F1 Score"
   ]
  },
  {
   "cell_type": "code",
   "execution_count": 59,
   "metadata": {},
   "outputs": [
    {
     "name": "stdout",
     "output_type": "stream",
     "text": [
      "Precision  0.1870748299319728\n",
      "Recall  0.55\n",
      "F1-Score  0.2791878172588833\n"
     ]
    }
   ],
   "source": [
    "#Calculating Precision\n",
    "Precision = TP/(TP+FP)\n",
    "\n",
    "#Calculating Recall\n",
    "Recall = TP/(TP+FN)\n",
    "\n",
    "print(\"Precision \",Precision)\n",
    "print(\"Recall \", Recall)\n",
    "\n",
    "#Calculating F1-Score\n",
    "F1_Score = 2*(Precision*Recall)/(Precision+Recall)\n",
    "\n",
    "print(\"F1-Score \",F1_Score)"
   ]
  },
  {
   "cell_type": "markdown",
   "metadata": {},
   "source": [
    "# 3.Computing AUC Score"
   ]
  },
  {
   "cell_type": "code",
   "execution_count": 61,
   "metadata": {},
   "outputs": [
    {
     "data": {
      "text/html": [
       "<div>\n",
       "<style scoped>\n",
       "    .dataframe tbody tr th:only-of-type {\n",
       "        vertical-align: middle;\n",
       "    }\n",
       "\n",
       "    .dataframe tbody tr th {\n",
       "        vertical-align: top;\n",
       "    }\n",
       "\n",
       "    .dataframe thead th {\n",
       "        text-align: right;\n",
       "    }\n",
       "</style>\n",
       "<table border=\"1\" class=\"dataframe\">\n",
       "  <thead>\n",
       "    <tr style=\"text-align: right;\">\n",
       "      <th></th>\n",
       "      <th>y</th>\n",
       "      <th>proba</th>\n",
       "    </tr>\n",
       "  </thead>\n",
       "  <tbody>\n",
       "    <tr>\n",
       "      <th>0</th>\n",
       "      <td>0.0</td>\n",
       "      <td>0.281035</td>\n",
       "    </tr>\n",
       "    <tr>\n",
       "      <th>1</th>\n",
       "      <td>0.0</td>\n",
       "      <td>0.465152</td>\n",
       "    </tr>\n",
       "    <tr>\n",
       "      <th>2</th>\n",
       "      <td>0.0</td>\n",
       "      <td>0.352793</td>\n",
       "    </tr>\n",
       "    <tr>\n",
       "      <th>3</th>\n",
       "      <td>0.0</td>\n",
       "      <td>0.157818</td>\n",
       "    </tr>\n",
       "    <tr>\n",
       "      <th>4</th>\n",
       "      <td>0.0</td>\n",
       "      <td>0.276648</td>\n",
       "    </tr>\n",
       "  </tbody>\n",
       "</table>\n",
       "</div>"
      ],
      "text/plain": [
       "     y     proba\n",
       "0  0.0  0.281035\n",
       "1  0.0  0.465152\n",
       "2  0.0  0.352793\n",
       "3  0.0  0.157818\n",
       "4  0.0  0.276648"
      ]
     },
     "execution_count": 61,
     "metadata": {},
     "output_type": "execute_result"
    }
   ],
   "source": [
    "data = pd.read_csv('5_b.csv')\n",
    "data.head()"
   ]
  },
  {
   "cell_type": "code",
   "execution_count": 62,
   "metadata": {},
   "outputs": [
    {
     "data": {
      "text/html": [
       "<div>\n",
       "<style scoped>\n",
       "    .dataframe tbody tr th:only-of-type {\n",
       "        vertical-align: middle;\n",
       "    }\n",
       "\n",
       "    .dataframe tbody tr th {\n",
       "        vertical-align: top;\n",
       "    }\n",
       "\n",
       "    .dataframe thead th {\n",
       "        text-align: right;\n",
       "    }\n",
       "</style>\n",
       "<table border=\"1\" class=\"dataframe\">\n",
       "  <thead>\n",
       "    <tr style=\"text-align: right;\">\n",
       "      <th></th>\n",
       "      <th>y</th>\n",
       "      <th>proba</th>\n",
       "      <th>Threshold 0.5952941839776669</th>\n",
       "      <th>Threshold 0.5948084022757003</th>\n",
       "      <th>Threshold 0.5921978708413235</th>\n",
       "      <th>Threshold 0.5901714464524004</th>\n",
       "      <th>Threshold 0.5887181867417832</th>\n",
       "      <th>Threshold 0.5851746698101434</th>\n",
       "      <th>Threshold 0.5832352156485459</th>\n",
       "      <th>Threshold 0.5822100493664223</th>\n",
       "      <th>...</th>\n",
       "      <th>Threshold 0.10039740418217284</th>\n",
       "      <th>Threshold 0.1003371449874035</th>\n",
       "      <th>Threshold 0.10030373243093957</th>\n",
       "      <th>Threshold 0.10024743027210822</th>\n",
       "      <th>Threshold 0.1002421268327976</th>\n",
       "      <th>Threshold 0.10022970009062958</th>\n",
       "      <th>Threshold 0.10018885836254708</th>\n",
       "      <th>Threshold 0.10016507626754403</th>\n",
       "      <th>Threshold 0.10016080437256432</th>\n",
       "      <th>Threshold 0.10000141285578913</th>\n",
       "    </tr>\n",
       "  </thead>\n",
       "  <tbody>\n",
       "    <tr>\n",
       "      <th>0</th>\n",
       "      <td>0.0</td>\n",
       "      <td>0.281035</td>\n",
       "      <td>0</td>\n",
       "      <td>0</td>\n",
       "      <td>0</td>\n",
       "      <td>0</td>\n",
       "      <td>0</td>\n",
       "      <td>0</td>\n",
       "      <td>0</td>\n",
       "      <td>0</td>\n",
       "      <td>...</td>\n",
       "      <td>1</td>\n",
       "      <td>1</td>\n",
       "      <td>1</td>\n",
       "      <td>1</td>\n",
       "      <td>1</td>\n",
       "      <td>1</td>\n",
       "      <td>1</td>\n",
       "      <td>1</td>\n",
       "      <td>1</td>\n",
       "      <td>1</td>\n",
       "    </tr>\n",
       "    <tr>\n",
       "      <th>1</th>\n",
       "      <td>0.0</td>\n",
       "      <td>0.465152</td>\n",
       "      <td>0</td>\n",
       "      <td>0</td>\n",
       "      <td>0</td>\n",
       "      <td>0</td>\n",
       "      <td>0</td>\n",
       "      <td>0</td>\n",
       "      <td>0</td>\n",
       "      <td>0</td>\n",
       "      <td>...</td>\n",
       "      <td>1</td>\n",
       "      <td>1</td>\n",
       "      <td>1</td>\n",
       "      <td>1</td>\n",
       "      <td>1</td>\n",
       "      <td>1</td>\n",
       "      <td>1</td>\n",
       "      <td>1</td>\n",
       "      <td>1</td>\n",
       "      <td>1</td>\n",
       "    </tr>\n",
       "    <tr>\n",
       "      <th>2</th>\n",
       "      <td>0.0</td>\n",
       "      <td>0.352793</td>\n",
       "      <td>0</td>\n",
       "      <td>0</td>\n",
       "      <td>0</td>\n",
       "      <td>0</td>\n",
       "      <td>0</td>\n",
       "      <td>0</td>\n",
       "      <td>0</td>\n",
       "      <td>0</td>\n",
       "      <td>...</td>\n",
       "      <td>1</td>\n",
       "      <td>1</td>\n",
       "      <td>1</td>\n",
       "      <td>1</td>\n",
       "      <td>1</td>\n",
       "      <td>1</td>\n",
       "      <td>1</td>\n",
       "      <td>1</td>\n",
       "      <td>1</td>\n",
       "      <td>1</td>\n",
       "    </tr>\n",
       "    <tr>\n",
       "      <th>3</th>\n",
       "      <td>0.0</td>\n",
       "      <td>0.157818</td>\n",
       "      <td>0</td>\n",
       "      <td>0</td>\n",
       "      <td>0</td>\n",
       "      <td>0</td>\n",
       "      <td>0</td>\n",
       "      <td>0</td>\n",
       "      <td>0</td>\n",
       "      <td>0</td>\n",
       "      <td>...</td>\n",
       "      <td>1</td>\n",
       "      <td>1</td>\n",
       "      <td>1</td>\n",
       "      <td>1</td>\n",
       "      <td>1</td>\n",
       "      <td>1</td>\n",
       "      <td>1</td>\n",
       "      <td>1</td>\n",
       "      <td>1</td>\n",
       "      <td>1</td>\n",
       "    </tr>\n",
       "    <tr>\n",
       "      <th>4</th>\n",
       "      <td>0.0</td>\n",
       "      <td>0.276648</td>\n",
       "      <td>0</td>\n",
       "      <td>0</td>\n",
       "      <td>0</td>\n",
       "      <td>0</td>\n",
       "      <td>0</td>\n",
       "      <td>0</td>\n",
       "      <td>0</td>\n",
       "      <td>0</td>\n",
       "      <td>...</td>\n",
       "      <td>1</td>\n",
       "      <td>1</td>\n",
       "      <td>1</td>\n",
       "      <td>1</td>\n",
       "      <td>1</td>\n",
       "      <td>1</td>\n",
       "      <td>1</td>\n",
       "      <td>1</td>\n",
       "      <td>1</td>\n",
       "      <td>1</td>\n",
       "    </tr>\n",
       "  </tbody>\n",
       "</table>\n",
       "<p>5 rows × 10102 columns</p>\n",
       "</div>"
      ],
      "text/plain": [
       "     y     proba  Threshold 0.5952941839776669  Threshold 0.5948084022757003  \\\n",
       "0  0.0  0.281035                             0                             0   \n",
       "1  0.0  0.465152                             0                             0   \n",
       "2  0.0  0.352793                             0                             0   \n",
       "3  0.0  0.157818                             0                             0   \n",
       "4  0.0  0.276648                             0                             0   \n",
       "\n",
       "   Threshold 0.5921978708413235  Threshold 0.5901714464524004  \\\n",
       "0                             0                             0   \n",
       "1                             0                             0   \n",
       "2                             0                             0   \n",
       "3                             0                             0   \n",
       "4                             0                             0   \n",
       "\n",
       "   Threshold 0.5887181867417832  Threshold 0.5851746698101434  \\\n",
       "0                             0                             0   \n",
       "1                             0                             0   \n",
       "2                             0                             0   \n",
       "3                             0                             0   \n",
       "4                             0                             0   \n",
       "\n",
       "   Threshold 0.5832352156485459  Threshold 0.5822100493664223  ...  \\\n",
       "0                             0                             0  ...   \n",
       "1                             0                             0  ...   \n",
       "2                             0                             0  ...   \n",
       "3                             0                             0  ...   \n",
       "4                             0                             0  ...   \n",
       "\n",
       "   Threshold 0.10039740418217284  Threshold 0.1003371449874035  \\\n",
       "0                              1                             1   \n",
       "1                              1                             1   \n",
       "2                              1                             1   \n",
       "3                              1                             1   \n",
       "4                              1                             1   \n",
       "\n",
       "   Threshold 0.10030373243093957  Threshold 0.10024743027210822  \\\n",
       "0                              1                              1   \n",
       "1                              1                              1   \n",
       "2                              1                              1   \n",
       "3                              1                              1   \n",
       "4                              1                              1   \n",
       "\n",
       "   Threshold 0.1002421268327976  Threshold 0.10022970009062958  \\\n",
       "0                             1                              1   \n",
       "1                             1                              1   \n",
       "2                             1                              1   \n",
       "3                             1                              1   \n",
       "4                             1                              1   \n",
       "\n",
       "   Threshold 0.10018885836254708  Threshold 0.10016507626754403  \\\n",
       "0                              1                              1   \n",
       "1                              1                              1   \n",
       "2                              1                              1   \n",
       "3                              1                              1   \n",
       "4                              1                              1   \n",
       "\n",
       "   Threshold 0.10016080437256432  Threshold 0.10000141285578913  \n",
       "0                              1                              1  \n",
       "1                              1                              1  \n",
       "2                              1                              1  \n",
       "3                              1                              1  \n",
       "4                              1                              1  \n",
       "\n",
       "[5 rows x 10102 columns]"
      ]
     },
     "execution_count": 62,
     "metadata": {},
     "output_type": "execute_result"
    }
   ],
   "source": [
    "#computing different thresholds and merging the labels based on that threshhold to the data\n",
    "Threshold = set()\n",
    "Threshold = sorted(data.proba,reverse=True)\n",
    "\n",
    "for i in Threshold:\n",
    "    lst = []\n",
    "    for val in data.proba:\n",
    "        if val < i:\n",
    "            lst.append(0)\n",
    "        else:\n",
    "            lst.append(1)        \n",
    "    data['Threshold '+str(i)] = lst\n",
    "    \n",
    "#Printing first 5 values of the data            \n",
    "data.head()          "
   ]
  },
  {
   "cell_type": "code",
   "execution_count": 65,
   "metadata": {},
   "outputs": [
    {
     "data": {
      "text/plain": [
       "0    10095\n",
       "1        5\n",
       "Name: Threshold 0.5887181867417832, dtype: int64"
      ]
     },
     "execution_count": 65,
     "metadata": {},
     "output_type": "execute_result"
    }
   ],
   "source": [
    "#Printing a column(on a given threshold) value counts\n",
    "data['Threshold '+str(0.5887181867417832)].value_counts()"
   ]
  },
  {
   "cell_type": "code",
   "execution_count": 66,
   "metadata": {},
   "outputs": [],
   "source": [
    "def Confusion_Matrix(data_frame, label1,label2):\n",
    "    lst = []\n",
    "    for thresh in Threshold:\n",
    "        counter = 0\n",
    "        for i in range(0,len(data_frame)):\n",
    "            if data_frame.y[i] == label1 and data_frame['Threshold '+str(thresh)][i] == label2:\n",
    "                counter +=1\n",
    "        lst.append(counter)\n",
    "    return lst   "
   ]
  },
  {
   "cell_type": "code",
   "execution_count": 67,
   "metadata": {},
   "outputs": [
    {
     "name": "stdout",
     "output_type": "stream",
     "text": [
      "True Positive's  [1, 2, 3, 4, 5, 6, 7, 8, 9, 10]\n",
      "True Negative's  [10000, 10000, 10000, 10000, 10000, 10000, 10000, 10000, 10000, 10000]\n",
      "False Positive's  [0, 0, 0, 0, 0, 0, 0, 0, 0, 0]\n",
      "False Negative's  [99, 98, 97, 96, 95, 94, 93, 92, 91, 90]\n"
     ]
    }
   ],
   "source": [
    "#Computing Confusion Matrix Parameter (TP,TN,FN,FP) for each threshold column\n",
    "TP = Confusion_Matrix(data, 1, 1)\n",
    "TN = Confusion_Matrix(data, 0, 0)\n",
    "FN = Confusion_Matrix(data, 1, 0)\n",
    "FP = Confusion_Matrix(data, 0, 1)\n",
    "\n",
    "\n",
    "print(\"True Positive's \",TP[:10])\n",
    "print(\"True Negative's \",TN[:10])\n",
    "print(\"False Positive's \",FP[:10])\n",
    "print(\"False Negative's \",FN[:10])"
   ]
  },
  {
   "cell_type": "code",
   "execution_count": 68,
   "metadata": {},
   "outputs": [],
   "source": [
    "def TPR_FPR_Calculator(arg1,arg2):\n",
    "    lst = []\n",
    "    for i in range(0, len(arg1)):\n",
    "        lst.append(arg1[i]/(arg1[i]+arg2[i]))\n",
    "    return lst         "
   ]
  },
  {
   "cell_type": "code",
   "execution_count": 69,
   "metadata": {},
   "outputs": [
    {
     "name": "stdout",
     "output_type": "stream",
     "text": [
      "True Positive Rate's :-  [0.01, 0.02, 0.03, 0.04, 0.05, 0.06, 0.07, 0.08, 0.09, 0.1]\n",
      "False Positive Rate's :-  [0.0, 0.0, 0.0, 0.0, 0.0, 0.0, 0.0, 0.0, 0.0, 0.0]\n"
     ]
    }
   ],
   "source": [
    "#Computing TPR & FPR values for each threshold column\n",
    "TPR = TPR_FPR_Calculator(TP,FN)\n",
    "FPR = TPR_FPR_Calculator(FP,TN)\n",
    "\n",
    "print(\"True Positive Rate's :- \",TPR[:10])\n",
    "print(\"False Positive Rate's :- \",FPR[:10])"
   ]
  },
  {
   "cell_type": "code",
   "execution_count": 70,
   "metadata": {},
   "outputs": [
    {
     "data": {
      "image/png": "[encoded data removed]",
      "text/plain": [
       "<Figure size 432x288 with 1 Axes>"
      ]
     },
     "metadata": {
      "needs_background": "light"
     },
     "output_type": "display_data"
    }
   ],
   "source": [
    "#plotting the TPR and FPR\n",
    "import matplotlib.pyplot as plt\n",
    "plt.plot(FPR,TPR)\n",
    "plt.xlabel(\"FPR(False Positive Rate)\")\n",
    "plt.ylabel(\"TPR(True Positive Rate)\")\n",
    "plt.show()\n"
   ]
  },
  {
   "cell_type": "code",
   "execution_count": 71,
   "metadata": {},
   "outputs": [
    {
     "name": "stdout",
     "output_type": "stream",
     "text": [
      "The AUC score is :- 0.9377570000000001\n"
     ]
    }
   ],
   "source": [
    "#Computing AUC Score\n",
    "print(\"The AUC score is :-\",np.trapz(TPR, FPR))"
   ]
  },
  {
   "cell_type": "markdown",
   "metadata": {},
   "source": [
    "# 4.Computing Accuracy\n"
   ]
  },
  {
   "cell_type": "code",
   "execution_count": 60,
   "metadata": {},
   "outputs": [
    {
     "name": "stdout",
     "output_type": "stream",
     "text": [
      "Accuracy Score :-  0.9718811881188119\n"
     ]
    }
   ],
   "source": [
    "#Calculating Accuracy\n",
    "Accuracy = (TP+TN)/(TP+TN+FP+FN)\n",
    "print(\"Accuracy Score :- \",Accuracy)"
   ]
  },
  {
   "cell_type": "markdown",
   "metadata": {
    "colab_type": "text",
    "id": "GiPGonTzQvoB"
   },
   "source": [
    "<font color='red'><b>C.</b></font> Compute the best threshold (similarly to ROC curve computation) of probability which gives lowest values of metric <b>A</b> for the given data <strong>5_c.csv</strong>\n",
    "<br>\n",
    "\n",
    "you will be predicting label of a data points like this: $y^{pred}= \\text{[0 if y_score < threshold  else 1]}$\n",
    "\n",
    "$ A = 500 \\times \\text{number of false negative} + 100 \\times \\text{numebr of false positive}$\n",
    "\n",
    "<pre>\n",
    "   <b>Note 1:</b> in this data you can see number of negative points > number of positive points\n",
    "   <b>Note 2:</b> use pandas or numpy to read the data from <b>5_c.csv</b>\n",
    "</pre>"
   ]
  },
  {
   "cell_type": "code",
   "execution_count": 3,
   "metadata": {
    "colab": {},
    "colab_type": "code",
    "id": "x5HIJzq1QvoE"
   },
   "outputs": [
    {
     "name": "stdout",
     "output_type": "stream",
     "text": [
      "0    1805\n",
      "1    1047\n",
      "Name: y, dtype: int64\n"
     ]
    },
    {
     "data": {
      "text/html": [
       "<div>\n",
       "<style scoped>\n",
       "    .dataframe tbody tr th:only-of-type {\n",
       "        vertical-align: middle;\n",
       "    }\n",
       "\n",
       "    .dataframe tbody tr th {\n",
       "        vertical-align: top;\n",
       "    }\n",
       "\n",
       "    .dataframe thead th {\n",
       "        text-align: right;\n",
       "    }\n",
       "</style>\n",
       "<table border=\"1\" class=\"dataframe\">\n",
       "  <thead>\n",
       "    <tr style=\"text-align: right;\">\n",
       "      <th></th>\n",
       "      <th>y</th>\n",
       "      <th>prob</th>\n",
       "    </tr>\n",
       "  </thead>\n",
       "  <tbody>\n",
       "    <tr>\n",
       "      <th>0</th>\n",
       "      <td>0</td>\n",
       "      <td>0.458521</td>\n",
       "    </tr>\n",
       "    <tr>\n",
       "      <th>1</th>\n",
       "      <td>0</td>\n",
       "      <td>0.505037</td>\n",
       "    </tr>\n",
       "    <tr>\n",
       "      <th>2</th>\n",
       "      <td>0</td>\n",
       "      <td>0.418652</td>\n",
       "    </tr>\n",
       "    <tr>\n",
       "      <th>3</th>\n",
       "      <td>0</td>\n",
       "      <td>0.412057</td>\n",
       "    </tr>\n",
       "    <tr>\n",
       "      <th>4</th>\n",
       "      <td>0</td>\n",
       "      <td>0.375579</td>\n",
       "    </tr>\n",
       "  </tbody>\n",
       "</table>\n",
       "</div>"
      ],
      "text/plain": [
       "   y      prob\n",
       "0  0  0.458521\n",
       "1  0  0.505037\n",
       "2  0  0.418652\n",
       "3  0  0.412057\n",
       "4  0  0.375579"
      ]
     },
     "execution_count": 3,
     "metadata": {},
     "output_type": "execute_result"
    }
   ],
   "source": [
    "data = pd.read_csv('5_c.csv')\n",
    "print(data.y.value_counts())\n",
    "data.head()"
   ]
  },
  {
   "cell_type": "code",
   "execution_count": 5,
   "metadata": {},
   "outputs": [
    {
     "data": {
      "text/html": [
       "<div>\n",
       "<style scoped>\n",
       "    .dataframe tbody tr th:only-of-type {\n",
       "        vertical-align: middle;\n",
       "    }\n",
       "\n",
       "    .dataframe tbody tr th {\n",
       "        vertical-align: top;\n",
       "    }\n",
       "\n",
       "    .dataframe thead th {\n",
       "        text-align: right;\n",
       "    }\n",
       "</style>\n",
       "<table border=\"1\" class=\"dataframe\">\n",
       "  <thead>\n",
       "    <tr style=\"text-align: right;\">\n",
       "      <th></th>\n",
       "      <th>y</th>\n",
       "      <th>prob</th>\n",
       "      <th>Threshold 0.9577467989277196</th>\n",
       "      <th>Threshold 0.9514369163158778</th>\n",
       "      <th>Threshold 0.9486377939984604</th>\n",
       "      <th>Threshold 0.9440936134070964</th>\n",
       "      <th>Threshold 0.9411131844327256</th>\n",
       "      <th>Threshold 0.9216107669714336</th>\n",
       "      <th>Threshold 0.918113140842399</th>\n",
       "      <th>Threshold 0.9163642710427174</th>\n",
       "      <th>...</th>\n",
       "      <th>Threshold 0.03415431203068908</th>\n",
       "      <th>Threshold 0.03280642064842021</th>\n",
       "      <th>Threshold 0.03191340452915914</th>\n",
       "      <th>Threshold 0.03188140327866018</th>\n",
       "      <th>Threshold 0.03139788556743317</th>\n",
       "      <th>Threshold 0.0311139870334316</th>\n",
       "      <th>Threshold 0.030268601469091494</th>\n",
       "      <th>Threshold 0.028963660871660364</th>\n",
       "      <th>Threshold 0.02839574137249512</th>\n",
       "      <th>Threshold 0.02803798623987141</th>\n",
       "    </tr>\n",
       "  </thead>\n",
       "  <tbody>\n",
       "    <tr>\n",
       "      <th>0</th>\n",
       "      <td>0</td>\n",
       "      <td>0.458521</td>\n",
       "      <td>0</td>\n",
       "      <td>0</td>\n",
       "      <td>0</td>\n",
       "      <td>0</td>\n",
       "      <td>0</td>\n",
       "      <td>0</td>\n",
       "      <td>0</td>\n",
       "      <td>0</td>\n",
       "      <td>...</td>\n",
       "      <td>1</td>\n",
       "      <td>1</td>\n",
       "      <td>1</td>\n",
       "      <td>1</td>\n",
       "      <td>1</td>\n",
       "      <td>1</td>\n",
       "      <td>1</td>\n",
       "      <td>1</td>\n",
       "      <td>1</td>\n",
       "      <td>1</td>\n",
       "    </tr>\n",
       "    <tr>\n",
       "      <th>1</th>\n",
       "      <td>0</td>\n",
       "      <td>0.505037</td>\n",
       "      <td>0</td>\n",
       "      <td>0</td>\n",
       "      <td>0</td>\n",
       "      <td>0</td>\n",
       "      <td>0</td>\n",
       "      <td>0</td>\n",
       "      <td>0</td>\n",
       "      <td>0</td>\n",
       "      <td>...</td>\n",
       "      <td>1</td>\n",
       "      <td>1</td>\n",
       "      <td>1</td>\n",
       "      <td>1</td>\n",
       "      <td>1</td>\n",
       "      <td>1</td>\n",
       "      <td>1</td>\n",
       "      <td>1</td>\n",
       "      <td>1</td>\n",
       "      <td>1</td>\n",
       "    </tr>\n",
       "    <tr>\n",
       "      <th>2</th>\n",
       "      <td>0</td>\n",
       "      <td>0.418652</td>\n",
       "      <td>0</td>\n",
       "      <td>0</td>\n",
       "      <td>0</td>\n",
       "      <td>0</td>\n",
       "      <td>0</td>\n",
       "      <td>0</td>\n",
       "      <td>0</td>\n",
       "      <td>0</td>\n",
       "      <td>...</td>\n",
       "      <td>1</td>\n",
       "      <td>1</td>\n",
       "      <td>1</td>\n",
       "      <td>1</td>\n",
       "      <td>1</td>\n",
       "      <td>1</td>\n",
       "      <td>1</td>\n",
       "      <td>1</td>\n",
       "      <td>1</td>\n",
       "      <td>1</td>\n",
       "    </tr>\n",
       "    <tr>\n",
       "      <th>3</th>\n",
       "      <td>0</td>\n",
       "      <td>0.412057</td>\n",
       "      <td>0</td>\n",
       "      <td>0</td>\n",
       "      <td>0</td>\n",
       "      <td>0</td>\n",
       "      <td>0</td>\n",
       "      <td>0</td>\n",
       "      <td>0</td>\n",
       "      <td>0</td>\n",
       "      <td>...</td>\n",
       "      <td>1</td>\n",
       "      <td>1</td>\n",
       "      <td>1</td>\n",
       "      <td>1</td>\n",
       "      <td>1</td>\n",
       "      <td>1</td>\n",
       "      <td>1</td>\n",
       "      <td>1</td>\n",
       "      <td>1</td>\n",
       "      <td>1</td>\n",
       "    </tr>\n",
       "    <tr>\n",
       "      <th>4</th>\n",
       "      <td>0</td>\n",
       "      <td>0.375579</td>\n",
       "      <td>0</td>\n",
       "      <td>0</td>\n",
       "      <td>0</td>\n",
       "      <td>0</td>\n",
       "      <td>0</td>\n",
       "      <td>0</td>\n",
       "      <td>0</td>\n",
       "      <td>0</td>\n",
       "      <td>...</td>\n",
       "      <td>1</td>\n",
       "      <td>1</td>\n",
       "      <td>1</td>\n",
       "      <td>1</td>\n",
       "      <td>1</td>\n",
       "      <td>1</td>\n",
       "      <td>1</td>\n",
       "      <td>1</td>\n",
       "      <td>1</td>\n",
       "      <td>1</td>\n",
       "    </tr>\n",
       "  </tbody>\n",
       "</table>\n",
       "<p>5 rows × 2793 columns</p>\n",
       "</div>"
      ],
      "text/plain": [
       "   y      prob  Threshold 0.9577467989277196  Threshold 0.9514369163158778  \\\n",
       "0  0  0.458521                             0                             0   \n",
       "1  0  0.505037                             0                             0   \n",
       "2  0  0.418652                             0                             0   \n",
       "3  0  0.412057                             0                             0   \n",
       "4  0  0.375579                             0                             0   \n",
       "\n",
       "   Threshold 0.9486377939984604  Threshold 0.9440936134070964  \\\n",
       "0                             0                             0   \n",
       "1                             0                             0   \n",
       "2                             0                             0   \n",
       "3                             0                             0   \n",
       "4                             0                             0   \n",
       "\n",
       "   Threshold 0.9411131844327256  Threshold 0.9216107669714336  \\\n",
       "0                             0                             0   \n",
       "1                             0                             0   \n",
       "2                             0                             0   \n",
       "3                             0                             0   \n",
       "4                             0                             0   \n",
       "\n",
       "   Threshold 0.918113140842399  Threshold 0.9163642710427174  ...  \\\n",
       "0                            0                             0  ...   \n",
       "1                            0                             0  ...   \n",
       "2                            0                             0  ...   \n",
       "3                            0                             0  ...   \n",
       "4                            0                             0  ...   \n",
       "\n",
       "   Threshold 0.03415431203068908  Threshold 0.03280642064842021  \\\n",
       "0                              1                              1   \n",
       "1                              1                              1   \n",
       "2                              1                              1   \n",
       "3                              1                              1   \n",
       "4                              1                              1   \n",
       "\n",
       "   Threshold 0.03191340452915914  Threshold 0.03188140327866018  \\\n",
       "0                              1                              1   \n",
       "1                              1                              1   \n",
       "2                              1                              1   \n",
       "3                              1                              1   \n",
       "4                              1                              1   \n",
       "\n",
       "   Threshold 0.03139788556743317  Threshold 0.0311139870334316  \\\n",
       "0                              1                             1   \n",
       "1                              1                             1   \n",
       "2                              1                             1   \n",
       "3                              1                             1   \n",
       "4                              1                             1   \n",
       "\n",
       "   Threshold 0.030268601469091494  Threshold 0.028963660871660364  \\\n",
       "0                               1                               1   \n",
       "1                               1                               1   \n",
       "2                               1                               1   \n",
       "3                               1                               1   \n",
       "4                               1                               1   \n",
       "\n",
       "   Threshold 0.02839574137249512  Threshold 0.02803798623987141  \n",
       "0                              1                              1  \n",
       "1                              1                              1  \n",
       "2                              1                              1  \n",
       "3                              1                              1  \n",
       "4                              1                              1  \n",
       "\n",
       "[5 rows x 2793 columns]"
      ]
     },
     "execution_count": 5,
     "metadata": {},
     "output_type": "execute_result"
    }
   ],
   "source": [
    "#computing different thresholds and merging the labels based on that threshhold to the data\n",
    "Threshold = set()\n",
    "Threshold = sorted(data.prob,reverse=True)\n",
    "\n",
    "for i in Threshold:\n",
    "    lst = []\n",
    "    for val in data.prob:\n",
    "        if val < i:\n",
    "            lst.append(0)\n",
    "        else:\n",
    "            lst.append(1)        \n",
    "    data['Threshold '+str(i)] = lst\n",
    "    \n",
    "#Printing first 5 values of the data            \n",
    "data.head()          "
   ]
  },
  {
   "cell_type": "code",
   "execution_count": 6,
   "metadata": {},
   "outputs": [
    {
     "data": {
      "text/plain": [
       "0    2849\n",
       "1       3\n",
       "Name: Threshold 0.9486377939984604, dtype: int64"
      ]
     },
     "execution_count": 6,
     "metadata": {},
     "output_type": "execute_result"
    }
   ],
   "source": [
    "#Printing a column(on a given threshold) value counts\n",
    "data['Threshold '+str(0.9486377939984604)].value_counts()"
   ]
  },
  {
   "cell_type": "code",
   "execution_count": 8,
   "metadata": {},
   "outputs": [],
   "source": [
    "def Confusion_Matrix(data_frame, label1,label2):\n",
    "    lst = []\n",
    "    for thresh in Threshold:\n",
    "        counter = 0\n",
    "        for i in range(0,len(data_frame)):\n",
    "            if data_frame.y[i] == label1 and data_frame['Threshold '+str(thresh)][i] == label2:\n",
    "                counter +=1\n",
    "        lst.append(counter)\n",
    "    return lst   "
   ]
  },
  {
   "cell_type": "code",
   "execution_count": 9,
   "metadata": {},
   "outputs": [
    {
     "name": "stdout",
     "output_type": "stream",
     "text": [
      "False Positive's  [0, 0, 0, 0, 0, 0, 0, 0, 0, 0]\n",
      "False Negative's  [1046, 1045, 1044, 1043, 1042, 1041, 1040, 1039, 1038, 1037]\n"
     ]
    }
   ],
   "source": [
    "#Computing Confusion Matrix Parameter (TP,TN,FN,FP) for each threshold column\n",
    "FN = Confusion_Matrix(data, 1, 0)\n",
    "FP = Confusion_Matrix(data, 0, 1)\n",
    "\n",
    "print(\"False Positive's \",FP[:10])\n",
    "print(\"False Negative's \",FN[:10])"
   ]
  },
  {
   "cell_type": "code",
   "execution_count": 11,
   "metadata": {},
   "outputs": [],
   "source": [
    "A={}\n",
    "for i in range(0, len(FP)):\n",
    "    a = 500*FN[i] + 100*FP[i]\n",
    "    A[Threshold[i]] = a"
   ]
  },
  {
   "cell_type": "code",
   "execution_count": 41,
   "metadata": {},
   "outputs": [
    {
     "name": "stdout",
     "output_type": "stream",
     "text": [
      "Threshold at which A is minimum  0.2300390278970873\n",
      "Minimum Value of A :  141000\n"
     ]
    }
   ],
   "source": [
    "key_min = min(A.keys(), key=(lambda k: A[k]))\n",
    "\n",
    "print(\"Threshold at which A is minimum \",key_min)\n",
    "print('Minimum Value of A : ',A[key_min])\n"
   ]
  },
  {
   "cell_type": "markdown",
   "metadata": {
    "colab_type": "text",
    "id": "sD4CcgjXQvoL"
   },
   "source": [
    "<pre>\n",
    "<font color='red'><b>D.</b></font> Compute performance metrics(for regression) for the given data <strong>5_d.csv</strong>\n",
    "    <b>Note 2:</b> use pandas or numpy to read the data from <b>5_d.csv</b>\n",
    "    <b>Note 1:</b> <b>5_d.csv</b> will having two columns Y and predicted_Y both are real valued features\n",
    "<ol>\n",
    "<li> Compute Mean Square Error </li>\n",
    "<li> Compute MAPE: https://www.youtube.com/watch?v=ly6ztgIkUxk</li>\n",
    "<li> Compute R^2 error: https://en.wikipedia.org/wiki/Coefficient_of_determination#Definitions </li>\n",
    "</ol>\n",
    "</pre>"
   ]
  },
  {
   "cell_type": "code",
   "execution_count": 3,
   "metadata": {},
   "outputs": [
    {
     "data": {
      "text/html": [
       "<div>\n",
       "<style scoped>\n",
       "    .dataframe tbody tr th:only-of-type {\n",
       "        vertical-align: middle;\n",
       "    }\n",
       "\n",
       "    .dataframe tbody tr th {\n",
       "        vertical-align: top;\n",
       "    }\n",
       "\n",
       "    .dataframe thead th {\n",
       "        text-align: right;\n",
       "    }\n",
       "</style>\n",
       "<table border=\"1\" class=\"dataframe\">\n",
       "  <thead>\n",
       "    <tr style=\"text-align: right;\">\n",
       "      <th></th>\n",
       "      <th>y</th>\n",
       "      <th>pred</th>\n",
       "    </tr>\n",
       "  </thead>\n",
       "  <tbody>\n",
       "    <tr>\n",
       "      <th>0</th>\n",
       "      <td>101.0</td>\n",
       "      <td>100.0</td>\n",
       "    </tr>\n",
       "    <tr>\n",
       "      <th>1</th>\n",
       "      <td>120.0</td>\n",
       "      <td>100.0</td>\n",
       "    </tr>\n",
       "    <tr>\n",
       "      <th>2</th>\n",
       "      <td>131.0</td>\n",
       "      <td>113.0</td>\n",
       "    </tr>\n",
       "    <tr>\n",
       "      <th>3</th>\n",
       "      <td>164.0</td>\n",
       "      <td>125.0</td>\n",
       "    </tr>\n",
       "    <tr>\n",
       "      <th>4</th>\n",
       "      <td>154.0</td>\n",
       "      <td>152.0</td>\n",
       "    </tr>\n",
       "  </tbody>\n",
       "</table>\n",
       "</div>"
      ],
      "text/plain": [
       "       y   pred\n",
       "0  101.0  100.0\n",
       "1  120.0  100.0\n",
       "2  131.0  113.0\n",
       "3  164.0  125.0\n",
       "4  154.0  152.0"
      ]
     },
     "execution_count": 3,
     "metadata": {},
     "output_type": "execute_result"
    }
   ],
   "source": [
    "data = pd.read_csv('5_d.csv')\n",
    "data.head()"
   ]
  },
  {
   "cell_type": "markdown",
   "metadata": {},
   "source": [
    "# 1. Compute Mean Square Error"
   ]
  },
  {
   "cell_type": "code",
   "execution_count": 9,
   "metadata": {},
   "outputs": [
    {
     "name": "stdout",
     "output_type": "stream",
     "text": [
      "Mean_Square_Error :-  177.16569974554707\n"
     ]
    }
   ],
   "source": [
    "Mean_Square_Error = sum((data.y-data.pred)**2)/len(data)\n",
    "print(\"Mean_Square_Error :- \",Mean_Square_Error)"
   ]
  },
  {
   "cell_type": "markdown",
   "metadata": {},
   "source": [
    "# 2. Compute MAPE"
   ]
  },
  {
   "cell_type": "code",
   "execution_count": 28,
   "metadata": {},
   "outputs": [
    {
     "name": "stdout",
     "output_type": "stream",
     "text": [
      "Mean Absolute Percentage Error :-  0.1291202994009687\n"
     ]
    }
   ],
   "source": [
    "MAPE = sum(abs(data.pred-data.y))/sum(data.y)\n",
    "#OR WE CAN WRITE MAPE AS BELOW TWO LINES OF CODE BUT I HAVE COMMENTED IT\n",
    "#APE = abs(data.pred-data.y)/(np.mean(data.y))\n",
    "#MAPE = np.mean(APE)\n",
    "print(\"Mean Absolute Percentage Error :- \",MAPE)"
   ]
  },
  {
   "cell_type": "markdown",
   "metadata": {},
   "source": [
    "# 3. Compute R^2 error"
   ]
  },
  {
   "cell_type": "code",
   "execution_count": 13,
   "metadata": {},
   "outputs": [
    {
     "name": "stdout",
     "output_type": "stream",
     "text": [
      "R-Squred is :  0.9563582786990964\n"
     ]
    }
   ],
   "source": [
    "SS_total = sum((data.y-(np.mean(data.y)))**2)/len(data)\n",
    "#R-Squared \n",
    "R_Squared = 1-(Mean_Square_Error/SS_total)\n",
    "print(\"R-Squred is : \",R_Squared)"
   ]
  }
 ],
 "metadata": {
  "colab": {
   "collapsed_sections": [],
   "name": "5_Performance_metrics_Instructions.ipynb",
   "provenance": [],
   "version": "0.3.2"
  },
  "kernelspec": {
   "display_name": "Python 3",
   "language": "python",
   "name": "python3"
  },
  "language_info": {
   "codemirror_mode": {
    "name": "ipython",
    "version": 3
   },
   "file_extension": ".py",
   "mimetype": "text/x-python",
   "name": "python",
   "nbconvert_exporter": "python",
   "pygments_lexer": "ipython3",
   "version": "3.7.3"
  }
 },
 "nbformat": 4,
 "nbformat_minor": 1
}
